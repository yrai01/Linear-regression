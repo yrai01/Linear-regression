{
 "cells": [
  {
   "cell_type": "markdown",
   "metadata": {},
   "source": [
    "# Simple Linear Regression"
   ]
  },
  {
   "cell_type": "markdown",
   "metadata": {},
   "source": [
    "# Dataset"
   ]
  },
  {
   "cell_type": "markdown",
   "metadata": {},
   "source": [
    "Population of U.S. Cities"
   ]
  },
  {
   "cell_type": "markdown",
   "metadata": {},
   "source": [
    "# Description"
   ]
  },
  {
   "cell_type": "markdown",
   "metadata": {},
   "source": [
    "The bigcity data frame has 49 rows and 2 columns.\n",
    "The measurements are the population (in 1000's) of 49 U.S. cities in 1920 and 1930. The 49 cities are a random sample taken\n",
    "from the 196 largest cities in 1920."
   ]
  },
  {
   "cell_type": "markdown",
   "metadata": {},
   "source": [
    "# Format"
   ]
  },
  {
   "cell_type": "markdown",
   "metadata": {},
   "source": [
    "This data frame contains the following columns:\n",
    "\n",
    "u The 1920 population.\n",
    "\n",
    "x The 1930 population.\n",
    "\n",
    "Source:\n",
    "\n",
    "The data were obtained from\n",
    "\n",
    "Cochran, W.G. (1977) Sampling Techniques. Third edition. John Wiley\n",
    "\n",
    "References:\n",
    "\n",
    "Davison, A.C. and Hinkley, D.V. (1997) Bootstrap Methods and Their Application. Cambridge University Press"
   ]
  },
  {
   "cell_type": "markdown",
   "metadata": {},
   "source": [
    "# 1. Read the dataset given in file named 'bigcity.csv'."
   ]
  },
  {
   "cell_type": "code",
   "execution_count": 152,
   "metadata": {},
   "outputs": [],
   "source": [
    "import numpy as np\n",
    "import pandas as pd\n",
    "import seaborn as sns\n",
    "import matplotlib.pyplot as plt"
   ]
  },
  {
   "cell_type": "markdown",
   "metadata": {},
   "source": [
    "import the neccesary library"
   ]
  },
  {
   "cell_type": "code",
   "execution_count": 153,
   "metadata": {},
   "outputs": [],
   "source": [
    "df = pd.read_csv(\"bigcity.csv\")"
   ]
  },
  {
   "cell_type": "code",
   "execution_count": 154,
   "metadata": {},
   "outputs": [],
   "source": [
    "df.rename(columns={'u': '1920','x': '1930','Unnamed: 0': 'No.'},inplace=True)"
   ]
  },
  {
   "cell_type": "markdown",
   "metadata": {},
   "source": [
    "This data seems to b numeric and shows the popullation in 1920 and 1930"
   ]
  },
  {
   "cell_type": "code",
   "execution_count": 155,
   "metadata": {},
   "outputs": [
    {
     "data": {
      "text/html": [
       "<div>\n",
       "<style scoped>\n",
       "    .dataframe tbody tr th:only-of-type {\n",
       "        vertical-align: middle;\n",
       "    }\n",
       "\n",
       "    .dataframe tbody tr th {\n",
       "        vertical-align: top;\n",
       "    }\n",
       "\n",
       "    .dataframe thead th {\n",
       "        text-align: right;\n",
       "    }\n",
       "</style>\n",
       "<table border=\"1\" class=\"dataframe\">\n",
       "  <thead>\n",
       "    <tr style=\"text-align: right;\">\n",
       "      <th></th>\n",
       "      <th>No.</th>\n",
       "      <th>1920</th>\n",
       "      <th>1930</th>\n",
       "    </tr>\n",
       "  </thead>\n",
       "  <tbody>\n",
       "    <tr>\n",
       "      <th>0</th>\n",
       "      <td>1</td>\n",
       "      <td>138</td>\n",
       "      <td>143</td>\n",
       "    </tr>\n",
       "    <tr>\n",
       "      <th>1</th>\n",
       "      <td>2</td>\n",
       "      <td>93</td>\n",
       "      <td>104</td>\n",
       "    </tr>\n",
       "    <tr>\n",
       "      <th>2</th>\n",
       "      <td>3</td>\n",
       "      <td>61</td>\n",
       "      <td>69</td>\n",
       "    </tr>\n",
       "    <tr>\n",
       "      <th>3</th>\n",
       "      <td>4</td>\n",
       "      <td>179</td>\n",
       "      <td>260</td>\n",
       "    </tr>\n",
       "    <tr>\n",
       "      <th>4</th>\n",
       "      <td>5</td>\n",
       "      <td>48</td>\n",
       "      <td>75</td>\n",
       "    </tr>\n",
       "  </tbody>\n",
       "</table>\n",
       "</div>"
      ],
      "text/plain": [
       "   No.  1920  1930\n",
       "0    1   138   143\n",
       "1    2    93   104\n",
       "2    3    61    69\n",
       "3    4   179   260\n",
       "4    5    48    75"
      ]
     },
     "execution_count": 155,
     "metadata": {},
     "output_type": "execute_result"
    }
   ],
   "source": [
    "df.head()"
   ]
  },
  {
   "cell_type": "markdown",
   "metadata": {},
   "source": [
    "# 2. Explore the shape of dataset (0.5 points)\n",
    "Find the number of rows in given dataset and separate the input and target variables into X and Y. Hint: You can shape function \n",
    "to get the size of the dataframe"
   ]
  },
  {
   "cell_type": "code",
   "execution_count": 156,
   "metadata": {},
   "outputs": [],
   "source": [
    "x = df['1920']\n",
    "y = df['1930']"
   ]
  },
  {
   "cell_type": "code",
   "execution_count": 157,
   "metadata": {},
   "outputs": [
    {
     "data": {
      "text/plain": [
       "(49, 3)"
      ]
     },
     "execution_count": 157,
     "metadata": {},
     "output_type": "execute_result"
    }
   ],
   "source": [
    "df.shape"
   ]
  },
  {
   "cell_type": "markdown",
   "metadata": {},
   "source": [
    "# 3. Check the dataset for any missing values and also print out the correlation matrix (0.5 points)\n",
    "You can use .isna() and .corr() functions to check NA's and correlation in the dataframe respectively"
   ]
  },
  {
   "cell_type": "code",
   "execution_count": 158,
   "metadata": {},
   "outputs": [
    {
     "data": {
      "text/plain": [
       "No.     49\n",
       "1920    49\n",
       "1930    49\n",
       "dtype: int64"
      ]
     },
     "execution_count": 158,
     "metadata": {},
     "output_type": "execute_result"
    }
   ],
   "source": [
    "df.isna().count()"
   ]
  },
  {
   "cell_type": "code",
   "execution_count": 159,
   "metadata": {},
   "outputs": [],
   "source": [
    "df1 = df.drop(['No.'], axis=1)"
   ]
  },
  {
   "cell_type": "code",
   "execution_count": 160,
   "metadata": {},
   "outputs": [
    {
     "data": {
      "image/png": "[encoded data removed]",
      "text/plain": [
       "<Figure size 432x288 with 2 Axes>"
      ]
     },
     "metadata": {
      "needs_background": "light"
     },
     "output_type": "display_data"
    }
   ],
   "source": [
    "correlation_matrix = sns.heatmap(df1.corr(), cmap=\"YlGnBu\", annot=True,)"
   ]
  },
  {
   "cell_type": "code",
   "execution_count": 161,
   "metadata": {},
   "outputs": [
    {
     "name": "stdout",
     "output_type": "stream",
     "text": [
      "          1920      1930\n",
      "1920  1.000000  0.981742\n",
      "1930  0.981742  1.000000\n"
     ]
    }
   ],
   "source": [
    "print(df1.corr())"
   ]
  },
  {
   "cell_type": "markdown",
   "metadata": {},
   "source": [
    "The high correlation betwwen u and x indicates that the variable u is a good predictor of variable x"
   ]
  },
  {
   "cell_type": "markdown",
   "metadata": {},
   "source": [
    "# 4. Split data into train, test sets (0.5 points)\n",
    "Divide the data into training and test sets with 80-20 split using scikit-learn. Print the shapes of training and test feature \n",
    "sets.*\n",
    "Check: train_test_split function"
   ]
  },
  {
   "cell_type": "code",
   "execution_count": 162,
   "metadata": {},
   "outputs": [],
   "source": [
    "y = df['1920'].values.reshape(-1, 1)\n",
    "X = df['1930'].values.reshape(-1, 1)"
   ]
  },
  {
   "cell_type": "code",
   "execution_count": 163,
   "metadata": {},
   "outputs": [],
   "source": [
    "from sklearn.model_selection import train_test_split\n",
    "X_train, X_test, y_train, y_test = train_test_split(X, y, test_size = 0.2)"
   ]
  },
  {
   "cell_type": "code",
   "execution_count": 164,
   "metadata": {},
   "outputs": [],
   "source": [
    "SEED = 42"
   ]
  },
  {
   "cell_type": "code",
   "execution_count": 165,
   "metadata": {},
   "outputs": [],
   "source": [
    "X_train, X_test, y_train, y_test = train_test_split(X, y, test_size = 0.2, random_state = SEED)"
   ]
  },
  {
   "cell_type": "code",
   "execution_count": 166,
   "metadata": {},
   "outputs": [
    {
     "name": "stdout",
     "output_type": "stream",
     "text": [
      "[[ 79]\n",
      " [ 75]\n",
      " [115]\n",
      " [111]\n",
      " [260]\n",
      " [ 50]\n",
      " [ 63]\n",
      " [142]\n",
      " [ 50]\n",
      " [ 93]\n",
      " [ 50]\n",
      " [ 58]\n",
      " [ 89]\n",
      " [ 67]\n",
      " [ 85]\n",
      " [143]\n",
      " [130]\n",
      " [ 53]\n",
      " [ 63]\n",
      " [288]\n",
      " [ 53]\n",
      " [ 86]\n",
      " [104]\n",
      " [ 57]\n",
      " [ 69]\n",
      " [ 65]\n",
      " [183]\n",
      " [ 64]\n",
      " [ 58]\n",
      " [ 52]\n",
      " [634]\n",
      " [464]\n",
      " [ 54]\n",
      " [106]\n",
      " [ 48]\n",
      " [ 64]\n",
      " [317]\n",
      " [291]\n",
      " [113]]\n",
      "[[ 71]\n",
      " [ 48]\n",
      " [120]\n",
      " [ 30]\n",
      " [179]\n",
      " [ 29]\n",
      " [ 64]\n",
      " [ 56]\n",
      " [ 43]\n",
      " [ 74]\n",
      " [  2]\n",
      " [ 50]\n",
      " [ 77]\n",
      " [ 67]\n",
      " [ 94]\n",
      " [138]\n",
      " [116]\n",
      " [ 45]\n",
      " [ 37]\n",
      " [256]\n",
      " [ 46]\n",
      " [ 66]\n",
      " [ 93]\n",
      " [ 60]\n",
      " [ 61]\n",
      " [ 46]\n",
      " [172]\n",
      " [ 50]\n",
      " [ 44]\n",
      " [ 38]\n",
      " [507]\n",
      " [381]\n",
      " [ 36]\n",
      " [ 78]\n",
      " [ 23]\n",
      " [ 40]\n",
      " [298]\n",
      " [243]\n",
      " [121]]\n"
     ]
    }
   ],
   "source": [
    "print(X_train) \n",
    "print(y_train)"
   ]
  },
  {
   "cell_type": "markdown",
   "metadata": {},
   "source": [
    "# 5. Find coefficients & intercept (0.5 points)\n",
    "Estimate the coefficients b0 and b1 using scikit-learn.\n",
    "Check: coef_ and intercept_ functions can help you get coefficients & intercept"
   ]
  },
  {
   "cell_type": "code",
   "execution_count": 167,
   "metadata": {},
   "outputs": [],
   "source": [
    "from sklearn.linear_model import LinearRegression\n",
    "regressor = LinearRegression()"
   ]
  },
  {
   "cell_type": "code",
   "execution_count": 168,
   "metadata": {},
   "outputs": [],
   "source": [
    "df2 = regressor.fit(X_train, y_train)"
   ]
  },
  {
   "cell_type": "markdown",
   "metadata": {},
   "source": [
    "For retrieving the slope (which is also the coefficient of x):"
   ]
  },
  {
   "cell_type": "code",
   "execution_count": 169,
   "metadata": {},
   "outputs": [
    {
     "name": "stdout",
     "output_type": "stream",
     "text": [
      "[[0.83052779]]\n"
     ]
    }
   ],
   "source": [
    "#Regression coefficients determine the slope of the line which is the change in the independent variable for the unit change in the independent variable. \n",
    "#If the cofficient is between 0.80 to 1.00 = Very strong positive correlation\n",
    "#If the cofficient is between 0.20 to 0.79 = Positive correlation\n",
    "#If the cofficient is between -0.30 to 0.19 = Negative correlation\n",
    "#If the cofficient is between -0.29 to -1.00 = Very strong negaitive correlation\n",
    "\n",
    "print(regressor.coef_)"
   ]
  },
  {
   "cell_type": "code",
   "execution_count": 170,
   "metadata": {},
   "outputs": [
    {
     "name": "stdout",
     "output_type": "stream",
     "text": [
      "[-2.7894991]\n"
     ]
    }
   ],
   "source": [
    "#If the intercept has a negative sign : then the probability of having the outcome will be < 0.5.\n",
    "#If the intercept has a positive sign : then the probability of having the outcome will be > 0.5.\n",
    "#If the intercept is equal to zero    : then the probability of having the outcome will be exactly 0.5.\n",
    "\n",
    "print(regressor.intercept_)"
   ]
  },
  {
   "cell_type": "markdown",
   "metadata": {},
   "source": [
    "# 6.  Linear Relationship between feature and target (0.5 points)\n",
    "Plot the line with b1 and b0 as slope and y-intercept."
   ]
  },
  {
   "cell_type": "code",
   "execution_count": 171,
   "metadata": {},
   "outputs": [],
   "source": [
    "x = np.array(df['1920']) \n",
    "y = np.array(df['1930'])\n",
    "n = np.size(x)"
   ]
  },
  {
   "cell_type": "code",
   "execution_count": 172,
   "metadata": {},
   "outputs": [
    {
     "data": {
      "text/plain": [
       "array([138,  93,  61, 179,  48,  37,  29,  23,  30,   2,  38,  46,  71,\n",
       "        25, 298,  74,  50,  76, 381, 387,  78,  60, 507,  50,  77,  64,\n",
       "        40, 136, 243, 256,  94,  36,  45,  67, 120, 172,  66,  46, 121,\n",
       "        44,  64,  56,  40, 116,  87,  43,  43, 161,  36])"
      ]
     },
     "execution_count": 172,
     "metadata": {},
     "output_type": "execute_result"
    }
   ],
   "source": [
    "x"
   ]
  },
  {
   "cell_type": "code",
   "execution_count": 173,
   "metadata": {},
   "outputs": [
    {
     "data": {
      "text/plain": [
       "array([143, 104,  69, 260,  75,  63,  50,  48, 111,  50,  52,  53,  79,\n",
       "        57, 317,  93,  58,  80, 464, 459, 106,  57, 634,  64,  89,  77,\n",
       "        60, 139, 291, 288,  85,  46,  53,  67, 115, 183,  86,  65, 113,\n",
       "        58,  63, 142,  64, 130, 105,  61,  50, 232,  54])"
      ]
     },
     "execution_count": 173,
     "metadata": {},
     "output_type": "execute_result"
    }
   ],
   "source": [
    "y"
   ]
  },
  {
   "cell_type": "code",
   "execution_count": 174,
   "metadata": {},
   "outputs": [
    {
     "name": "stdout",
     "output_type": "stream",
     "text": [
      "Slope b1 is : 1.1577337039322437\n",
      "Intercept b0 is : 8.383956333192671\n"
     ]
    }
   ],
   "source": [
    "#Bo is the y-intercept, the value of y when x=0. \n",
    "#B1 is the slope or how y changes per unit increase in x.\n",
    "#The slope of the regression line is b1 = Sxy / Sx^2,\n",
    "#The intercept is b0 = ymean - b1 xmean,\n",
    "\n",
    "x_mean = np.mean(x)\n",
    "y_mean = np.mean(y)\n",
    "x_mean,y_mean\n",
    "  \n",
    "Sxy = np.sum(x*y)- n*x_mean*y_mean\n",
    "Sxx = np.sum(x*x)-n*x_mean*x_mean\n",
    "\n",
    "#If b1 is positive, then as X increases, Y increases as well. \n",
    "#This means that they vary directly with one another. Thus, if, in the regression model, b1 is positive, we say there is b. a direct linear relationship between X and Y.\n",
    "b1 = Sxy/Sxx\n",
    "\n",
    "#Negative b0 value = This simply means that the expected value on your dependent variable will be less than 0 when all independent/predictor variables are set to 0.\n",
    "#Positive b0 value = This simply means that the expected value on your dependent variable will be more than 0 when all independent/predictor variables are set to 1.\n",
    "b0 = y_mean-b1*x_mean\n",
    "print('Slope b1 is :', b1)\n",
    "print('Intercept b0 is :', b0)\n"
   ]
  },
  {
   "cell_type": "code",
   "execution_count": 175,
   "metadata": {},
   "outputs": [
    {
     "data": {
      "text/plain": [
       "Text(0, 0.5, 'y')"
      ]
     },
     "execution_count": 175,
     "metadata": {},
     "output_type": "execute_result"
    },
    {
     "data": {
      "image/png": "[encoded data removed]",
      "text/plain": [
       "<Figure size 432x288 with 1 Axes>"
      ]
     },
     "metadata": {
      "needs_background": "light"
     },
     "output_type": "display_data"
    }
   ],
   "source": [
    "y_pred = b1 * x + b0\n",
    "  \n",
    "plt.scatter(x, y, color = 'red')\n",
    "plt.plot(x, y_pred, color = 'green')\n",
    "plt.xlabel('X')\n",
    "plt.ylabel('y')\n",
    "\n",
    "\n",
    "#This graph indictes that there are higher chance where population of the city are less than 200000 in 1920 and 1930."
   ]
  },
  {
   "cell_type": "markdown",
   "metadata": {},
   "source": [
    "# 7. Evaluation of model with scikit-learn (0.5 points)\n",
    "Validate the model with Root Mean Squares error and R^2 score using scikit-learn. RMSE and R2 for test data and prediction\n",
    "\n",
    "Hint: You can import mean_squared_error function & r2 (R square) from sklearn.metrics. Performing root operation over mean \n",
    "square error over mean square error gives you root mean square error"
   ]
  },
  {
   "cell_type": "code",
   "execution_count": 176,
   "metadata": {},
   "outputs": [
    {
     "name": "stdout",
     "output_type": "stream",
     "text": [
      "Root mean square error is 23.179613486957937\n",
      "R square is 0.963817258548811\n"
     ]
    }
   ],
   "source": [
    "error = y - y_pred\n",
    "se = np.sum(error**2)\n",
    "\n",
    "#Mean Squared Error represents the average of the squared difference between the original and predicted values in the data set. \n",
    "#There is no correct value for MSE. Simply put, the lower the value the better and 0 means the model is perfect\n",
    "mse = se/n\n",
    "\n",
    "#Root Mean Squared Error is the square root of Mean Squared error.\n",
    "#Since the RMSE is measured on the same scale, with the same units as y , one can expect 68% of the y values to be within 1 RMSE - given the data is normally distributed.\n",
    "rmse = np.sqrt(mse)\n",
    "print('Root mean square error is', rmse)\n",
    "SSt = np.sum((y - y_mean)**2)\n",
    "\n",
    "#It measures the average difference between values predicted by a model and the actual values\n",
    "#In general, the higher the R-squared, the better the model fits your data.\n",
    "R2 = 1- (se/SSt)\n",
    "print('R square is', R2)"
   ]
  },
  {
   "cell_type": "markdown",
   "metadata": {},
   "source": [
    "# 8. Calculate the accuracy of the model for both training and test data set (0.5 points)\n",
    "\n",
    "Hint: .score() function"
   ]
  },
  {
   "cell_type": "code",
   "execution_count": 177,
   "metadata": {},
   "outputs": [],
   "source": [
    "test_score = regressor.score(X_test, y_test)"
   ]
  },
  {
   "cell_type": "code",
   "execution_count": 178,
   "metadata": {},
   "outputs": [
    {
     "data": {
      "text/plain": [
       "0.98035367389296"
      ]
     },
     "execution_count": 178,
     "metadata": {},
     "output_type": "execute_result"
    }
   ],
   "source": [
    "#A model with a higher accuracy is considered to be a better classifier.\n",
    "\n",
    "test_score "
   ]
  },
  {
   "cell_type": "code",
   "execution_count": 179,
   "metadata": {},
   "outputs": [],
   "source": [
    "train_score = regressor.score(X_train, y_train)"
   ]
  },
  {
   "cell_type": "code",
   "execution_count": 180,
   "metadata": {},
   "outputs": [
    {
     "data": {
      "text/plain": [
       "0.9596126269828565"
      ]
     },
     "execution_count": 180,
     "metadata": {},
     "output_type": "execute_result"
    }
   ],
   "source": [
    "train_score"
   ]
  }
 ],
 "metadata": {
  "kernelspec": {
   "display_name": "Python 3 (ipykernel)",
   "language": "python",
   "name": "python3"
  },
  "language_info": {
   "codemirror_mode": {
    "name": "ipython",
    "version": 3
   },
   "file_extension": ".py",
   "mimetype": "text/x-python",
   "name": "python",
   "nbconvert_exporter": "python",
   "pygments_lexer": "ipython3",
   "version": "3.9.12"
  }
 },
 "nbformat": 4,
 "nbformat_minor": 2
}
